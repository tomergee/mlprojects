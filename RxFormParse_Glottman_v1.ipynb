{
 "cells": [
  {
   "cell_type": "markdown",
   "metadata": {
    "id": "rZrqLsMVLzhH"
   },
   "source": [
    "# Eyeglass Prescription Parsing using Google Cloud Document AI\n",
    "\n",
    "This notebook shows how to use Google Cloud Document AI to parse a prescription form for Eyeglasses\n",
    "\n"
   ]
  },
  {
   "cell_type": "markdown",
   "metadata": {
    "id": "y1cYougzLzhJ"
   },
   "source": [
    "## Enable Document AI\n",
    "\n",
    "1. First enable Document AI in your project by visiting\n",
    "https://console.developers.google.com/apis/api/documentai.googleapis.com/overview\n",
    "\n",
    "2. Find out who you are running as:"
   ]
  },
  {
   "cell_type": "code",
   "execution_count": null,
   "metadata": {
    "id": "8irAEgGMLzhJ",
    "outputId": "50b39add-6b11-47af-f1b8-8ad4a7d8dc70"
   },
   "outputs": [],
   "source": [
    "!gcloud auth list"
   ]
  },
  {
   "cell_type": "markdown",
   "metadata": {
    "id": "dv7mSzJmLzhJ"
   },
   "source": [
    "3. Create a service account authorization by visiting\n",
    "https://console.cloud.google.com/iam-admin/serviceaccounts/create\n",
    "Give this service account Document AI Core Service Account authorization\n",
    "\n",
    "4. Give the above ACTIVE ACCOUNT the ability to use the service account you just created."
   ]
  },
  {
   "cell_type": "markdown",
   "metadata": {
    "id": "YVEKdZu5LzhJ"
   },
   "source": [
    "## Call Document AI\n",
    "#### Put your PDF source document path in the PDF var"
   ]
  },
  {
   "cell_type": "code",
   "execution_count": null,
   "metadata": {
    "id": "qkStGkajLzhJ",
    "outputId": "bb35174f-d206-4fd9-a309-e9e3bf9d5005"
   },
   "outputs": [],
   "source": [
    "PDF=\"gs://glottman-project-0/RX_samples/Example_1.gif\" "
   ]
  },
  {
   "cell_type": "code",
   "execution_count": null,
   "metadata": {
    "id": "qkStGkajLzhJ",
    "outputId": "bb35174f-d206-4fd9-a309-e9e3bf9d5005"
   },
   "outputs": [],
   "source": [
    "%%bash -s \"$PDF\"\n",
    "\n",
    "PDF=$1\n",
    "\n",
    "REGION=\"us\"  # change to EU if the bucket is in the EU\n",
    "\n",
    "cat <<EOM > request.json\n",
    "{\n",
    "   \"inputConfig\":{\n",
    "      \"gcsSource\":{\n",
    "         \"uri\":\"${PDF}\"\n",
    "      },\n",
    "      \"mimeType\":\"image/gif\"\n",
    "   },\n",
    "   \"documentType\":\"general\",\n",
    "   \"formExtractionParams\":{\n",
    "      \"enabled\":true\n",
    "   }\n",
    "}\n",
    "EOM\n",
    "\n",
    "# Send request to Document AI.\n",
    "PROJECT=$(gcloud config get-value project)\n",
    "echo \"Sending the following request to Document AI in ${PROJECT} ($REGION region), saving to response.json\"\n",
    "cat request.json\n",
    "\n",
    "curl -X POST \\\n",
    "  -H \"Authorization: Bearer \"$(gcloud auth application-default print-access-token) \\\n",
    "  -H \"Content-Type: application/json; charset=utf-8\" \\\n",
    "  -d @request.json \\\n",
    "  https://${REGION}-documentai.googleapis.com/v1beta2/projects/${PROJECT}/locations/us/documents:process \\\n",
    "  > response.json"
   ]
  },
  {
   "cell_type": "code",
   "execution_count": null,
   "metadata": {
    "id": "bznl9nKQLzhJ",
    "outputId": "ae04505c-29b9-4659-d9f1-5878e4ac5768"
   },
   "outputs": [],
   "source": [
    "!tail response.json"
   ]
  },
  {
   "cell_type": "markdown",
   "metadata": {},
   "source": [
    "**Note**: If you get a 403 PERMISSION DENIED error, please re-run all the cells from the top."
   ]
  },
  {
   "cell_type": "markdown",
   "metadata": {
    "id": "BLp8X9KmLzhJ"
   },
   "source": [
    "## Show the document sent"
   ]
  },
  {
   "cell_type": "code",
   "execution_count": null,
   "metadata": {
    "id": "BLp8X9KmLzhJ"
   },
   "outputs": [],
   "source": [
    "%%bash -s \"$PDF\"\n",
    "\n",
    "PDF=$1\n",
    "\n",
    "FILENAME=\"$(basename $PDF)\"\n",
    "test=$FILENAME\n",
    "if [ ! -f $FILENAME ]; then\n",
    "   gsutil cp $PDF .\n",
    "fi"
   ]
  },
  {
   "cell_type": "code",
   "execution_count": null,
   "metadata": {
    "id": "BLp8X9KmLzhJ"
   },
   "outputs": [],
   "source": [
    "import os\n",
    "filename = os.path.basename(PDF)\n",
    "\n",
    "from IPython.display import IFrame\n",
    "IFrame(filename, width=1200, height=500)"
   ]
  },
  {
   "cell_type": "markdown",
   "metadata": {
    "id": "BLp8X9KmLzhJ"
   },
   "source": [
    "## Parse the response\n",
    "\n",
    "Let's use Python to parse the response and pull out specific fields.\n",
    "Start with printing all the extracted text fields."
   ]
  },
  {
   "cell_type": "code",
   "execution_count": null,
   "metadata": {
    "id": "LISGX0yXLzhJ"
   },
   "outputs": [],
   "source": [
    "import json\n",
    "ifp = open('response.json')"
   ]
  },
  {
   "cell_type": "code",
   "execution_count": null,
   "metadata": {
    "id": "LISGX0yXLzhJ"
   },
   "outputs": [],
   "source": [
    "response = json.load(ifp)"
   ]
  },
  {
   "cell_type": "code",
   "execution_count": null,
   "metadata": {
    "id": "nHGFFF7yLzhJ",
    "outputId": "92014cf5-ab24-4533-96b8-ddce3936bc1d"
   },
   "outputs": [],
   "source": [
    "# Print all extracted text\n",
    "\n",
    "allText = response['text']\n",
    "print(allText[:1000])"
   ]
  },
  {
   "cell_type": "markdown",
   "metadata": {
    "id": "skhK81fZLzhJ",
    "outputId": "1ea207de-b5a3-4d51-c912-3b665d33e66b"
   },
   "source": [
    "## Let's look at the document extracted dictionary layout a bit"
   ]
  },
  {
   "cell_type": "code",
   "execution_count": null,
   "metadata": {
    "id": "skhK81fZLzhJ",
    "outputId": "1ea207de-b5a3-4d51-c912-3b665d33e66b"
   },
   "outputs": [],
   "source": [
    "# substring print\n",
    "print(allText.index(\"Sph.\"))"
   ]
  },
  {
   "cell_type": "code",
   "execution_count": null,
   "metadata": {
    "id": "OncXL_BmLzhJ",
    "outputId": "eb0eef30-0ee3-47a2-c91d-689aa247fb49"
   },
   "outputs": [],
   "source": [
    "# the response starts at page 0, contains 1 page and has 25 extracted blocks\n",
    "response['pages'][0]"
   ]
  },
  {
   "cell_type": "code",
   "execution_count": null,
   "metadata": {},
   "outputs": [],
   "source": [
    "blockLen=len(response['pages'][0]['blocks'])\n",
    "startIndex = int(response['pages'][0]['blocks'][1]['layout']['textAnchor']['textSegments'][0]['startIndex'])\n",
    "endIndex = int(response['pages'][0]['blocks'][blockLen-1]['layout']['textAnchor']['textSegments'][0]['endIndex'])\n",
    "allText[startIndex:endIndex]"
   ]
  },
  {
   "cell_type": "markdown",
   "metadata": {
    "id": "Zk9u8S1xLzhJ"
   },
   "source": [
    "### Option 1: Now we understand the layout block, we can get some extractions using the first method of parsing text elements"
   ]
  },
  {
   "cell_type": "code",
   "execution_count": null,
   "metadata": {
    "id": "fQj_yEdgLzhJ",
    "outputId": "0f4642af-9ed4-4106-9542-6a1752800958"
   },
   "outputs": [],
   "source": [
    "def extractText(allText, elem):\n",
    "    startIndex = int(elem['textAnchor']['textSegments'][0]['startIndex'])\n",
    "    endIndex = int(elem['textAnchor']['textSegments'][0]['endIndex'])\n",
    "    return allText[startIndex:endIndex].strip()\n",
    "\n",
    "amount = extractText(allText, response['pages'][0]['blocks'][1]['layout']) + \":\" +  extractText(allText, response['pages'][0]['blocks'][7]['layout'])\n",
    "print(amount)\n",
    "amount = extractText(allText, response['pages'][0]['blocks'][2]['layout']) + \":\" +  extractText(allText, response['pages'][0]['blocks'][8]['layout'])\n",
    "print(amount)\n",
    "amount = extractText(allText, response['pages'][0]['blocks'][4]['layout']) + \":\" +  extractText(allText, response['pages'][0]['blocks'][9]['layout'])\n",
    "print(amount)"
   ]
  },
  {
   "cell_type": "markdown",
   "metadata": {
    "id": "T_ZtWSltLzhJ"
   },
   "source": [
    "### Option 2: Parsing form fields\n",
    "\n",
    "What we did with blocks of text was quite low-level. Document AI understands that forms tend to have key-value pairs, and part of the JSON response includes these extracted key-value pairs as well.\n",
    "\n",
    "Besides FormField Document AI also supports getting Paragraph and Table from the document."
   ]
  },
  {
   "cell_type": "code",
   "execution_count": null,
   "metadata": {
    "id": "dUBw0AVELzhJ",
    "outputId": "e6f5f063-c651-41d1-b405-e2a1fe3c7d81"
   },
   "outputs": [],
   "source": [
    "# Review dictuinary keys extracted\n",
    "response['pages'][0].keys()"
   ]
  },
  {
   "cell_type": "code",
   "execution_count": null,
   "metadata": {
    "id": "5UUDghY6LzhJ",
    "outputId": "e0784ef0-961a-47a8-9f91-7f47c88c8f9b"
   },
   "outputs": [],
   "source": [
    "# Review what a form field includes - Field and Value with text segments starting with an anchor (Important for later)\n",
    "response['pages'][0]['formFields'][3]"
   ]
  },
  {
   "cell_type": "code",
   "execution_count": null,
   "metadata": {
    "id": "fPd2nYE0LzhK",
    "outputId": "bf66982a-a849-4c04-d832-59d30fd487ba"
   },
   "outputs": [],
   "source": [
    "fieldName = extractText(allText, response['pages'][0]['formFields'][0]['fieldName'])\n",
    "fieldValue = extractText(allText, response['pages'][0]['formFields'][0]['fieldValue'])\n",
    "print('key={}\\nvalue={}'.format(fieldName, fieldValue))\n",
    "\n",
    "listLength = len(response['pages'][0]['formFields'])"
   ]
  },
  {
   "cell_type": "code",
   "execution_count": null,
   "metadata": {
    "id": "fPd2nYE0LzhK",
    "outputId": "bf66982a-a849-4c04-d832-59d30fd487ba"
   },
   "outputs": [],
   "source": [
    "# Using loop\n",
    "for i in range(listLength):\n",
    "    fieldName = extractText(allText, response['pages'][0]['formFields'][i]['fieldName'])\n",
    "    if len(response['pages'][0]['formFields'][i]['fieldValue']['textAnchor']) == 0 :\n",
    "        fieldValue=0\n",
    "    else : \n",
    "        fieldValue = extractText(allText, response['pages'][0]['formFields'][i]['fieldValue'])\n",
    "    print('key={}\\nvalue={}'.format(fieldName, fieldValue))"
   ]
  },
  {
   "cell_type": "markdown",
   "metadata": {
    "id": "7QRKvF9NLzhK"
   },
   "source": [
    "Enjoy!\n",
    "\n",
    "Copyright 2021 Google Inc. Licensed under the Apache License, Version 2.0 (the \\\"License\\\"); you may not use this file except in compliance with the License. You may obtain a copy of the License at http://www.apache.org/licenses/LICENSE-2.0 Unless required by applicable law or agreed to in writing, software distributed under the License is distributed on an \\\"AS IS\\\" BASIS, WITHOUT WARRANTIES OR CONDITIONS OF ANY KIND, either express or implied. See the License for the specific language governing permissions and limitations under the License"
   ]
  }
 ],
 "metadata": {
  "colab": {
   "collapsed_sections": [],
   "name": "formparsing.ipynb",
   "provenance": []
  },
  "environment": {
   "name": "tf2-gpu.2-3.m74",
   "type": "gcloud",
   "uri": "gcr.io/deeplearning-platform-release/tf2-gpu.2-3:m74"
  },
  "kernelspec": {
   "display_name": "Python 3",
   "language": "python",
   "name": "python3"
  },
  "language_info": {
   "codemirror_mode": {
    "name": "ipython",
    "version": 3
   },
   "file_extension": ".py",
   "mimetype": "text/x-python",
   "name": "python",
   "nbconvert_exporter": "python",
   "pygments_lexer": "ipython3",
   "version": "3.7.10"
  }
 },
 "nbformat": 4,
 "nbformat_minor": 4
}
